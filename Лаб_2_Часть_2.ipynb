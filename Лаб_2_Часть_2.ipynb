{
 "cells": [
  {
   "cell_type": "code",
   "execution_count": null,
   "id": "ab4306d2",
   "metadata": {},
   "outputs": [
    {
     "ename": "",
     "evalue": "",
     "output_type": "error",
     "traceback": [
      "\u001b[1;31mRunning cells with 'd:\\Python\\python.exe' requires the ipykernel package.\n",
      "\u001b[1;31mRun the following command to install 'ipykernel' into the Python environment. \n",
      "\u001b[1;31mCommand: 'd:/Python/python.exe -m pip install ipykernel -U --user --force-reinstall'"
     ]
    }
   ],
   "source": [
    "import math\n",
    "import numpy as np\n",
    "from PIL import Image\n",
    "\n",
    "img = Image.open('4Labs.png')\n",
    "img_arr = np.array(img)\n",
    "img_arr_2 = img_arr\n",
    "width, height = img.size"
   ]
  },
  {
   "cell_type": "code",
   "execution_count": null,
   "id": "b1944d49",
   "metadata": {},
   "outputs": [
    {
     "ename": "",
     "evalue": "",
     "output_type": "error",
     "traceback": [
      "\u001b[1;31mRunning cells with 'd:\\Python\\python.exe' requires the ipykernel package.\n",
      "\u001b[1;31mRun the following command to install 'ipykernel' into the Python environment. \n",
      "\u001b[1;31mCommand: 'd:/Python/python.exe -m pip install ipykernel -U --user --force-reinstall'"
     ]
    }
   ],
   "source": [
    "sigma = 3 \n",
    "def gauss_weight(sigma_current, x, y, z): \n",
    "    total_weight = 0 \n",
    "    for i in range(sigma_current):\n",
    "        for j in range(sigma_current):\n",
    "            \n",
    "            sigma_curr_i = abs(i - sigma_current/2) \n",
    "            sigma_curr_j = abs(j - sigma_current//2) \n",
    "            sigma_curr = int(max(sigma_curr_i, sigma_curr_j))+1\n",
    "\n",
    "            if sigma_curr == 2: \n",
    "                weight = (1/(2*math.pi*sigma_curr**2)) * np.exp(-(((i-sigma_curr+1)**2)+((j-sigma_curr+1)**2)) / (2*sigma_curr**2))\n",
    "            else: \n",
    "                weight = (1/(2*math.pi*sigma_curr**2)) * np.exp(-(((i-sigma_curr)**2)+((j-sigma_curr)**2)) / (2*sigma_curr**2))\n",
    "            \n",
    "            total_weight += weight \n",
    "    \n",
    "    avarage_pix_val = 0 \n",
    "    \n",
    "    for i in range(sigma_current):\n",
    "        for j in range(sigma_current):\n",
    "            \n",
    "            sigma_curr_i = abs(i - sigma_current/2)\n",
    "            sigma_curr_j = abs(j - sigma_current//2)\n",
    "            sigma_curr = int(max(sigma_curr_i, sigma_curr_j))+1\n",
    "\n",
    "            if sigma_curr == 2:\n",
    "                weight = (1/(2*math.pi*sigma_curr**2)) * np.exp(-(((i-sigma_curr+1)**2)+((j-sigma_curr+1)**2)) / (2*sigma_curr**2))\n",
    "            else: \n",
    "                weight = (1/(2*math.pi*sigma_curr**2)) * np.exp(-(((i-sigma_curr)**2)+((j-sigma_curr)**2)) / (2*sigma_curr**2))\n",
    "                \n",
    "            weight_percent = weight/total_weight*100 \n",
    "            avarage_pix_val += weight_percent * img_arr[x+i, y+j, z]\n",
    "\n",
    "    avarage_pix_val = avarage_pix_val/100 \n",
    "    return(avarage_pix_val)\n",
    "  "
   ]
  },
  {
   "cell_type": "code",
   "execution_count": null,
   "id": "063e2173",
   "metadata": {},
   "outputs": [
    {
     "ename": "",
     "evalue": "",
     "output_type": "error",
     "traceback": [
      "\u001b[1;31mRunning cells with 'd:\\Python\\python.exe' requires the ipykernel package.\n",
      "\u001b[1;31mRun the following command to install 'ipykernel' into the Python environment. \n",
      "\u001b[1;31mCommand: 'd:/Python/python.exe -m pip install ipykernel -U --user --force-reinstall'"
     ]
    }
   ],
   "source": [
    "for i in range(height-2): \n",
    "    for j in range(width-2):\n",
    "        img_arr_2[i+1, j+1, 0] = gauss_weight(sigma, i, j, 0) \n",
    "        img_arr_2[i+1, j+1, 1] = gauss_weight(sigma, i, j, 1) \n",
    "        img_arr_2[i+1, j+1, 2] = gauss_weight(sigma, i, j, 2)\n",
    "        \n",
    "Image.fromarray(img_arr_2, 'RGB')"
   ]
  },
  {
   "cell_type": "code",
   "execution_count": null,
   "id": "79e7be3f",
   "metadata": {},
   "outputs": [
    {
     "ename": "",
     "evalue": "",
     "output_type": "error",
     "traceback": [
      "\u001b[1;31mRunning cells with 'd:\\Python\\python.exe' requires the ipykernel package.\n",
      "\u001b[1;31mRun the following command to install 'ipykernel' into the Python environment. \n",
      "\u001b[1;31mCommand: 'd:/Python/python.exe -m pip install ipykernel -U --user --force-reinstall'"
     ]
    }
   ],
   "source": [
    "img"
   ]
  },
  {
   "cell_type": "code",
   "execution_count": null,
   "id": "cfad1eb7",
   "metadata": {},
   "outputs": [
    {
     "ename": "",
     "evalue": "",
     "output_type": "error",
     "traceback": [
      "\u001b[1;31mRunning cells with 'd:\\Python\\python.exe' requires the ipykernel package.\n",
      "\u001b[1;31mRun the following command to install 'ipykernel' into the Python environment. \n",
      "\u001b[1;31mCommand: 'd:/Python/python.exe -m pip install ipykernel -U --user --force-reinstall'"
     ]
    }
   ],
   "source": []
  }
 ],
 "metadata": {
  "kernelspec": {
   "display_name": "Python 3 (ipykernel)",
   "language": "python",
   "name": "python3"
  },
  "language_info": {
   "codemirror_mode": {
    "name": "ipython",
    "version": 3
   },
   "file_extension": ".py",
   "mimetype": "text/x-python",
   "name": "python",
   "nbconvert_exporter": "python",
   "pygments_lexer": "ipython3",
   "version": "3.10.5"
  }
 },
 "nbformat": 4,
 "nbformat_minor": 5
}
